{
 "cells": [
  {
   "cell_type": "markdown",
   "metadata": {},
   "source": [
    "# Business problem explenation"
   ]
  },
  {
   "cell_type": "markdown",
   "metadata": {},
   "source": [
    "New York City is the most populous city in the Unites States with an estimated (2018) population of 8,4 million. The city is a vibrant metropolis with immigrants from all over the world living and working and the city, and also bringing some their culture with them. One of the best ways to notice different cultures is by exploring the gastronomical diversity in the city.\n",
    "In this case we will take a look at Chinese restaurants. In particular we will conduct an analysis trying to discover the following:\n",
    "\n",
    "- what are the best rated restaurants in the city?\n",
    "- where are these restaurants located?\n",
    "- in what boroughs the number of Chinese per capita is lower than in others?\n",
    "- would these be interesting locations to open a Chinese restaurant?"
   ]
  },
  {
   "cell_type": "markdown",
   "metadata": {},
   "source": [
    "# Data"
   ]
  },
  {
   "cell_type": "markdown",
   "metadata": {},
   "source": [
    "To conduct the analysis and solve the business problem different sources of data will be analysed and used:\n",
    "- New York City open data website: https://opendata.cityofnewyork.us/\n",
    "- Data which contains a list of NYC boroughs, along with their longitude, latitude boundaries available at: https://data.cityofnewyork.us/City-Government/Borough-Boundaries/tqmj-j8zm\n",
    "- Data regarding population in NYC boroughs and neighborhoods: https://data.cityofnewyork.us/City-Government/New-York-City-Population-By-Neighborhood-Tabulatio/swpk-hqdp/data\n",
    "- Foursquare list of chinese restaurants. By using this API I will get all venues in every neighborhood and further explore which of these are chinese restaurants."
   ]
  }
 ],
 "metadata": {
  "kernelspec": {
   "display_name": "Python 3",
   "language": "python",
   "name": "python3"
  },
  "language_info": {
   "codemirror_mode": {
    "name": "ipython",
    "version": 3
   },
   "file_extension": ".py",
   "mimetype": "text/x-python",
   "name": "python",
   "nbconvert_exporter": "python",
   "pygments_lexer": "ipython3",
   "version": "3.7.3"
  }
 },
 "nbformat": 4,
 "nbformat_minor": 2
}
