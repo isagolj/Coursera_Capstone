#!/usr/bin/env python
# coding: utf-8

# ## Notebook for Applied Data Science Capstone course 

# In[1]:


import pandas as pd
import numpy as np
print("Hello Capstone Project Course!")


# In[ ]:





# In[ ]:




